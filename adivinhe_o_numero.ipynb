{
  "nbformat": 4,
  "nbformat_minor": 0,
  "metadata": {
    "colab": {
      "provenance": [],
      "authorship_tag": "ABX9TyPGRchEk0/P+92hxsMax0Rd",
      "include_colab_link": true
    },
    "kernelspec": {
      "name": "python3",
      "display_name": "Python 3"
    },
    "language_info": {
      "name": "python"
    }
  },
  "cells": [
    {
      "cell_type": "markdown",
      "metadata": {
        "id": "view-in-github",
        "colab_type": "text"
      },
      "source": [
        "<a href=\"https://colab.research.google.com/github/Carlos051068/Colab_aula_Anhanguera/blob/main/adivinhe_o_numero.ipynb\" target=\"_parent\"><img src=\"https://colab.research.google.com/assets/colab-badge.svg\" alt=\"Open In Colab\"/></a>"
      ]
    },
    {
      "cell_type": "code",
      "execution_count": 18,
      "metadata": {
        "id": "mZ3QRVOteH0y",
        "colab": {
          "base_uri": "https://localhost:8080/"
        },
        "outputId": "5c0665af-665a-454d-99bf-2174ede48ca9"
      },
      "outputs": [
        {
          "output_type": "stream",
          "name": "stdout",
          "text": [
            "ACERTE O NÚMERO ESCOLHIDO PELO COMPUTADOR\n",
            "\n",
            "DIGITE UM NÚMERO: 5\n",
            "\n",
            "VOCÊ ERROU!\n"
          ]
        }
      ],
      "source": [
        "import random #exercício Python #028 https://www.youtube.com/watch?v=kchC5KLZSZ4\n",
        "#from time import sleep #PROCESSANDO...\n",
        "#from random import randint\n",
        "print('ACERTE O NÚMERO ESCOLHIDO PELO COMPUTADOR')\n",
        "n = random.randrange(0, 6) # ou n = randint(0, 6)\n",
        "\n",
        "#print('Número escolhido pelo computador:{}, pelo jogador:{}.'.format(n, n1))\n",
        "\n",
        "n1 = int(input('\\nDIGITE UM NÚMERO: ')) #jogador informa o número desejado\n",
        "#  Print('PROCESSANDO...')\n",
        "#sleep(3)\n",
        "if n == n1:\n",
        "  print('\\nPARABÉNS, VOCÊ ACERTOU!')\n",
        "else:\n",
        "  print('\\nVOCÊ ERROU!')"
      ]
    },
    {
      "cell_type": "code",
      "source": [],
      "metadata": {
        "id": "eGW4-8_nFsCI"
      },
      "execution_count": null,
      "outputs": []
    }
  ]
}