{
  "nbformat": 4,
  "nbformat_minor": 0,
  "metadata": {
    "colab": {
      "name": "convertecaractermaiusc.ipynb",
      "provenance": [],
      "authorship_tag": "ABX9TyOirSje0Tb/yHryyQs6IYN3",
      "include_colab_link": true
    },
    "kernelspec": {
      "name": "python3",
      "display_name": "Python 3"
    },
    "language_info": {
      "name": "python"
    }
  },
  "cells": [
    {
      "cell_type": "markdown",
      "metadata": {
        "id": "view-in-github",
        "colab_type": "text"
      },
      "source": [
        "<a href=\"https://colab.research.google.com/github/Carlos051068/Colab_aula_Anhanguera/blob/main/embaralha_frase.ipynb\" target=\"_parent\"><img src=\"https://colab.research.google.com/assets/colab-badge.svg\" alt=\"Open In Colab\"/></a>"
      ]
    },
    {
      "cell_type": "code",
      "execution_count": 39,
      "metadata": {
        "id": "mZ3QRVOteH0y",
        "colab": {
          "base_uri": "https://localhost:8080/"
        },
        "outputId": "7b3e618c-ee4d-4d96-a7f0-6edac2823bca"
      },
      "outputs": [
        {
          "output_type": "stream",
          "name": "stdout",
          "text": [
            "linguagem de programação\n",
            "aoalipedmumag oçgrrgã en\n",
            "LINGUAGEM DE PROGRAMAÇÃO\n",
            "AOALIPEDMUMAG OÇGRRGÃ EN\n"
          ]
        }
      ],
      "source": [
        "from random import shuffle\n",
        "frase = ('Linguagem de Programação')\n",
        "\n",
        "#from random import shuffle\n",
        "def embaralha_texto(frase):\n",
        "    x = list(frase)\n",
        "    shuffle(x)\n",
        "    x = ''.join(x)\n",
        "    print(frase.lower())\n",
        "    print(x.lower())\n",
        "    print(frase.upper())\n",
        "    print(x.upper())\n",
        "\n",
        "#nome = input('Digite algo: ')\n",
        "embaralha_texto(frase)"
      ]
    },
    {
      "cell_type": "code",
      "source": [
        ""
      ],
      "metadata": {
        "id": "eGW4-8_nFsCI"
      },
      "execution_count": null,
      "outputs": []
    }
  ]
}