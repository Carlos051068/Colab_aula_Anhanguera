{
  "nbformat": 4,
  "nbformat_minor": 0,
  "metadata": {
    "colab": {
      "name": "convertecaractermaiusc.ipynb",
      "provenance": [],
      "authorship_tag": "ABX9TyOOosbsMW14zM6DJxuzyiqc",
      "include_colab_link": true
    },
    "kernelspec": {
      "name": "python3",
      "display_name": "Python 3"
    },
    "language_info": {
      "name": "python"
    }
  },
  "cells": [
    {
      "cell_type": "markdown",
      "metadata": {
        "id": "view-in-github",
        "colab_type": "text"
      },
      "source": [
        "<a href=\"https://colab.research.google.com/github/Carlos051068/Colab_aula_Anhanguera/blob/main/desconto_porcentagem.ipynb\" target=\"_parent\"><img src=\"https://colab.research.google.com/assets/colab-badge.svg\" alt=\"Open In Colab\"/></a>"
      ]
    },
    {
      "cell_type": "code",
      "execution_count": 25,
      "metadata": {
        "id": "mZ3QRVOteH0y",
        "colab": {
          "base_uri": "https://localhost:8080/"
        },
        "outputId": "d64d45ab-df43-4aef-8d1a-69145bab0baa"
      },
      "outputs": [
        {
          "output_type": "stream",
          "name": "stdout",
          "text": [
            "Digite o valor do produto: R$2569.70\n",
            "Digite o valor do desconto: %15.0\n",
            "O valor do produto é R$2569.70, o desconto é 15%, o produto custa R$ 2184.24.\n"
          ]
        }
      ],
      "source": [
        "#CALCULANDO DESCONTO PORCENTAGEM -  GUANABARA Exercício Pytho #012\n",
        "\n",
        "preco = float(input(\"Digite o valor do produto: R$\"))\n",
        "desc = float(input(\"Digite o valor do desconto: %\"))\n",
        "vcdesc = preco - (preco * desc / 100)\n",
        "print(\"O valor do produto é R${:.2f}, o desconto é {:.0f}%, o produto custa R$ {:.2f}.\".format(preco, desc, vcdesc))"
      ]
    },
    {
      "cell_type": "code",
      "source": [
        ""
      ],
      "metadata": {
        "id": "eGW4-8_nFsCI"
      },
      "execution_count": null,
      "outputs": []
    }
  ]
}