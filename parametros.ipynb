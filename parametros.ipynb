{
  "nbformat": 4,
  "nbformat_minor": 0,
  "metadata": {
    "colab": {
      "name": "convertecaractermaiusc.ipynb",
      "provenance": [],
      "authorship_tag": "ABX9TyMULDfis9tdaKmPgRPc6FvY",
      "include_colab_link": true
    },
    "kernelspec": {
      "name": "python3",
      "display_name": "Python 3"
    },
    "language_info": {
      "name": "python"
    }
  },
  "cells": [
    {
      "cell_type": "markdown",
      "metadata": {
        "id": "view-in-github",
        "colab_type": "text"
      },
      "source": [
        "<a href=\"https://colab.research.google.com/github/Carlos051068/Colab_aula_Anhanguera/blob/main/parametros.ipynb\" target=\"_parent\"><img src=\"https://colab.research.google.com/assets/colab-badge.svg\" alt=\"Open In Colab\"/></a>"
      ]
    },
    {
      "cell_type": "code",
      "execution_count": 14,
      "metadata": {
        "id": "mZ3QRVOteH0y",
        "colab": {
          "base_uri": "https://localhost:8080/"
        },
        "outputId": "49dee116-a400-4704-981b-4b6d6b2bde62"
      },
      "outputs": [
        {
          "output_type": "stream",
          "name": "stdout",
          "text": [
            "\n",
            "Chamada 1\n",
            "Tipo de objeto recebido = <class 'dict'>\n",
            "\n",
            "Quantidade de parâmetros = 3\n",
            "variável = cidade, valor = São Paulo\n",
            "variável = idade, valor = 33\n",
            "variável = nome, valor = João\n",
            "\n",
            "Chamada 2\n",
            "Tipo de objeto recebido = <class 'dict'>\n",
            "\n",
            "Quantidade de parâmetros = 2\n",
            "variável = desconto, valor = 10\n",
            "variável = valor, valor = 100\n"
          ]
        }
      ],
      "source": [
        "#AULA 1 ANHANGUERA LINGUAGEM DE PROGRAMAÇÃO\n",
        "\n",
        "# parametros.\n",
        "\n",
        "def imprimir_parametros(**kwargs):\n",
        "  print(f\"Tipo de objeto recebido = {type(kwargs)}\\n\")\n",
        "  qtde_parametros = len(kwargs)\n",
        "  print(f\"Quantidade de parâmetros = {qtde_parametros}\")\n",
        "\n",
        "  for chave, valor in kwargs.items():\n",
        "    print(f\"variável = {chave}, valor = {valor}\")\n",
        "\n",
        "print(\"\\nChamada 1\")\n",
        "imprimir_parametros(cidade=\"São Paulo\", idade=33, nome=\"João\")\n",
        "print(\"\\nChamada 2\")\n",
        "imprimir_parametros(desconto=10, valor=100)"
      ]
    },
    {
      "cell_type": "code",
      "source": [
        ""
      ],
      "metadata": {
        "id": "eGW4-8_nFsCI"
      },
      "execution_count": null,
      "outputs": []
    }
  ]
}