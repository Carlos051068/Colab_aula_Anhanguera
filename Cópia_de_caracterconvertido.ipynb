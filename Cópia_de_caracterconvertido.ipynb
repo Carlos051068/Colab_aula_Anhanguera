{
  "nbformat": 4,
  "nbformat_minor": 0,
  "metadata": {
    "colab": {
      "name": "Cópia de caracterconvertido.ipynb",
      "provenance": [],
      "authorship_tag": "ABX9TyM3yyG731p2QeKqkjidM4G9",
      "include_colab_link": true
    },
    "kernelspec": {
      "name": "python3",
      "display_name": "Python 3"
    },
    "language_info": {
      "name": "python"
    }
  },
  "cells": [
    {
      "cell_type": "markdown",
      "metadata": {
        "id": "view-in-github",
        "colab_type": "text"
      },
      "source": [
        "<a href=\"https://colab.research.google.com/github/Carlos051068/Colab_aula_Anhanguera/blob/main/C%C3%B3pia_de_caracterconvertido.ipynb\" target=\"_parent\"><img src=\"https://colab.research.google.com/assets/colab-badge.svg\" alt=\"Open In Colab\"/></a>"
      ]
    },
    {
      "cell_type": "code",
      "execution_count": 2,
      "metadata": {
        "colab": {
          "base_uri": "https://localhost:8080/"
        },
        "id": "mZ3QRVOteH0y",
        "outputId": "09cc9e16-c2ae-4087-b5d0-44ad2fe04aac"
      },
      "outputs": [
        {
          "output_type": "stream",
          "name": "stdout",
          "text": [
            "\n",
            "Texto1 = linguagem de programação\n",
            "\n",
            "Texto2 = linguagem de programação\n"
          ]
        }
      ],
      "source": [
        "#AULA 1 ANHANGUERA LINGUAGEM DE PROGRAMAÇÃO\n",
        "\n",
        "# parâmetros e funções. CARACTERES CONVERTIDOS PARA MINUSCULA\n",
        "# Parâmetro nominal, obrigatório, com valor default (padrão), nesse grupo os\n",
        "# parâmetros podem possuir valor default.\n",
        "\n",
        "def converter_minuscula(texto, flag_minuscula=True): # O parâmetro flag_minuscula possui True como valor default\n",
        "  if flag_minuscula:\n",
        "    return texto.lower()\n",
        "  else:\n",
        "    return texto.upper()\n",
        "\n",
        "texto1 = converter_minuscula(flag_minuscula=True, texto=\"LINGUAGEM de Programação\")\n",
        "\n",
        "texto2 = converter_minuscula(texto=\"LINGUAGEM de Programação\")\n",
        "\n",
        "print(f\"\\nTexto1 = {texto1}\")\n",
        "\n",
        "print(f\"\\nTexto2 = {texto2}\")"
      ]
    },
    {
      "cell_type": "code",
      "source": [
        ""
      ],
      "metadata": {
        "id": "eGW4-8_nFsCI"
      },
      "execution_count": null,
      "outputs": []
    }
  ]
}