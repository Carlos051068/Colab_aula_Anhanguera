{
  "nbformat": 4,
  "nbformat_minor": 0,
  "metadata": {
    "colab": {
      "provenance": [],
      "authorship_tag": "ABX9TyP6jeFIEkOwyMu/HvHlcO0w",
      "include_colab_link": true
    },
    "kernelspec": {
      "name": "python3",
      "display_name": "Python 3"
    },
    "language_info": {
      "name": "python"
    }
  },
  "cells": [
    {
      "cell_type": "markdown",
      "metadata": {
        "id": "view-in-github",
        "colab_type": "text"
      },
      "source": [
        "<a href=\"https://colab.research.google.com/github/Carlos051068/Colab_aula_Anhanguera/blob/main/listabancoshtml.ipynb\" target=\"_parent\"><img src=\"https://colab.research.google.com/assets/colab-badge.svg\" alt=\"Open In Colab\"/></a>"
      ]
    },
    {
      "cell_type": "code",
      "source": [
        "#Anhanguera LISTA DE BANCOS AULA 4\n",
        "\n",
        "import pandas as pd\n",
        "\n",
        "url = 'https://www.fdic.gov/resources/resolutions/bank-failures/failed-bank-list/'\n",
        "dfs = pd.read_html(url)\n",
        "df_bancos = dfs[0]\n",
        "\n",
        "df_bancos.loc[0]\n",
        "#df_bancos.iloc[:5] #BUSCA AS 5 PRIMEIRAS POSIÇÕES NA TABELA\n",
        "\n"
      ],
      "metadata": {
        "colab": {
          "base_uri": "https://localhost:8080/"
        },
        "id": "P4uY8RhuZ15r",
        "outputId": "aa7bc288-9b9f-4425-ac2f-84ee617926c8"
      },
      "execution_count": 5,
      "outputs": [
        {
          "output_type": "execute_result",
          "data": {
            "text/plain": [
              "Bank NameBank              Almena State Bank\n",
              "CityCity                              Almena\n",
              "StateSt                                   KS\n",
              "CertCert                               15426\n",
              "Acquiring InstitutionAI          Equity Bank\n",
              "Closing DateClosing         October 23, 2020\n",
              "FundFund                               10538\n",
              "Name: 0, dtype: object"
            ]
          },
          "metadata": {},
          "execution_count": 5
        }
      ]
    }
  ]
}