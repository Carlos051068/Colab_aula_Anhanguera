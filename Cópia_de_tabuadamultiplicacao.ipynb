{
  "nbformat": 4,
  "nbformat_minor": 0,
  "metadata": {
    "colab": {
      "name": "Cópia de tabuadamultiplicacao.ipynb",
      "provenance": [],
      "authorship_tag": "ABX9TyMwc+MDUmeM5+KShbTR/jzO",
      "include_colab_link": true
    },
    "kernelspec": {
      "name": "python3",
      "display_name": "Python 3"
    },
    "language_info": {
      "name": "python"
    }
  },
  "cells": [
    {
      "cell_type": "markdown",
      "metadata": {
        "id": "view-in-github",
        "colab_type": "text"
      },
      "source": [
        "<a href=\"https://colab.research.google.com/github/Carlos051068/Colab_aula_Anhanguera/blob/main/C%C3%B3pia_de_tabuadamultiplicacao.ipynb\" target=\"_parent\"><img src=\"https://colab.research.google.com/assets/colab-badge.svg\" alt=\"Open In Colab\"/></a>"
      ]
    },
    {
      "cell_type": "code",
      "execution_count": 1,
      "metadata": {
        "colab": {
          "base_uri": "https://localhost:8080/"
        },
        "id": "mZ3QRVOteH0y",
        "outputId": "eea6c402-1406-4e5e-8a65-ceb5358c47d7"
      },
      "outputs": [
        {
          "output_type": "stream",
          "name": "stdout",
          "text": [
            "TABUADA MULTIPLICAÇÃO\n",
            "Digite um número: 3\n",
            "3 x 0 = 0\n",
            "3 x 1 = 3\n",
            "3 x 2 = 6\n",
            "3 x 3 = 9\n",
            "3 x 4 = 12\n",
            "3 x 5 = 15\n",
            "3 x 6 = 18\n",
            "3 x 7 = 21\n",
            "3 x 8 = 24\n",
            "3 x 9 = 27\n",
            "3 x 10 = 30\n",
            "---------------\n"
          ]
        }
      ],
      "source": [
        "print(\"TABUADA MULTIPLICAÇÃO\")\n",
        "num1 = int(input(\"Digite um número: \"))\n",
        "num0 = 0\n",
        "num = 1\n",
        "num2 = 2\n",
        "num3 = 3\n",
        "num4 = 4\n",
        "num5 = 5\n",
        "num6 = 6\n",
        "num7 = 7\n",
        "num8 = 8\n",
        "num9 = 9\n",
        "num10 = 10\n",
        "r = (num1 * num0)\n",
        "print(\"{} x {} = {}\" .format(num1, num0, r))\n",
        "r = (num1 * num)\n",
        "print(\"{} x {} = {}\" .format(num1, num, r))\n",
        "r = (num1 * num2)\n",
        "print(\"{} x {} = {}\" .format(num1, num2, r))\n",
        "r = (num1 * num3)\n",
        "print(\"{} x {} = {}\" .format(num1, num3, r))\n",
        "r = (num1 * num4)\n",
        "print(\"{} x {} = {}\" .format(num1, num4, r))\n",
        "r = (num1 * num5)\n",
        "print(\"{} x {} = {}\" .format(num1, num5, r))\n",
        "r = (num1 * num6)\n",
        "print(\"{} x {} = {}\" .format(num1, num6, r))\n",
        "r = (num1 * num7)\n",
        "print(\"{} x {} = {}\" .format(num1, num7, r))\n",
        "r = (num1 * num8)\n",
        "print(\"{} x {} = {}\" .format(num1, num8, r))\n",
        "r = (num1 * num9)\n",
        "print(\"{} x {} = {}\" .format(num1, num9, r))\n",
        "r = (num1 * num10)\n",
        "print(\"{} x {} = {}\" .format(num1, num10, r))\n",
        "print(\"---------------\")\n",
        "    "
      ]
    }
  ]
}