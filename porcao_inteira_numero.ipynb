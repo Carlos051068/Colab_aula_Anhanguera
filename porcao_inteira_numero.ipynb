{
  "nbformat": 4,
  "nbformat_minor": 0,
  "metadata": {
    "colab": {
      "name": "convertecaractermaiusc.ipynb",
      "provenance": [],
      "authorship_tag": "ABX9TyM6V+zzZ2LB7/jR7AmLwmys",
      "include_colab_link": true
    },
    "kernelspec": {
      "name": "python3",
      "display_name": "Python 3"
    },
    "language_info": {
      "name": "python"
    }
  },
  "cells": [
    {
      "cell_type": "markdown",
      "metadata": {
        "id": "view-in-github",
        "colab_type": "text"
      },
      "source": [
        "<a href=\"https://colab.research.google.com/github/Carlos051068/Colab_aula_Anhanguera/blob/main/porcao_inteira_numero.ipynb\" target=\"_parent\"><img src=\"https://colab.research.google.com/assets/colab-badge.svg\" alt=\"Open In Colab\"/></a>"
      ]
    },
    {
      "cell_type": "code",
      "execution_count": 29,
      "metadata": {
        "id": "mZ3QRVOteH0y",
        "colab": {
          "base_uri": "https://localhost:8080/"
        },
        "outputId": "c605d168-b8ee-4483-c445-4b395cb67c3f"
      },
      "outputs": [
        {
          "output_type": "stream",
          "name": "stdout",
          "text": [
            "Digite um valor: 7\n",
            "O valor digitado foi 7.0 e sua porção inteira é 7\n"
          ]
        }
      ],
      "source": [
        "#LEITURA DE NÚMERO REAL -  GUANABARA Exercício Pytho #016\n",
        "# base aula 8\n",
        "from math import trunc #from math import trunc chama a função\n",
        "num = float(input('Digite um valor: '))\n",
        "print('O valor digitado foi {} e sua porção inteira é {}'.format(num, trunc(num))) # int(num) substitui trunc(num)"
      ]
    },
    {
      "cell_type": "code",
      "source": [
        ""
      ],
      "metadata": {
        "id": "eGW4-8_nFsCI"
      },
      "execution_count": null,
      "outputs": []
    }
  ]
}