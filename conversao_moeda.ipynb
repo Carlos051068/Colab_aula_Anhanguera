{
  "nbformat": 4,
  "nbformat_minor": 0,
  "metadata": {
    "colab": {
      "name": "convertecaractermaiusc.ipynb",
      "provenance": [],
      "authorship_tag": "ABX9TyMqHFn3IRxV0A7k0WoqEvgJ",
      "include_colab_link": true
    },
    "kernelspec": {
      "name": "python3",
      "display_name": "Python 3"
    },
    "language_info": {
      "name": "python"
    }
  },
  "cells": [
    {
      "cell_type": "markdown",
      "metadata": {
        "id": "view-in-github",
        "colab_type": "text"
      },
      "source": [
        "<a href=\"https://colab.research.google.com/github/Carlos051068/Colab_aula_Anhanguera/blob/main/conversao_moeda.ipynb\" target=\"_parent\"><img src=\"https://colab.research.google.com/assets/colab-badge.svg\" alt=\"Open In Colab\"/></a>"
      ]
    },
    {
      "cell_type": "code",
      "execution_count": 23,
      "metadata": {
        "id": "mZ3QRVOteH0y",
        "colab": {
          "base_uri": "https://localhost:8080/"
        },
        "outputId": "fa05ef70-0974-40fd-a720-7c7d2d6b274b"
      },
      "outputs": [
        {
          "output_type": "stream",
          "name": "stdout",
          "text": [
            "Digite o valor em reais, R$:1500.00\n",
            "Digite o valor do dolar, U$$: 5.78\n",
            "Com R$1500.00 correspondem a U$$259.52\n"
          ]
        }
      ],
      "source": [
        "#CONVERSÃO DE MOEDA GUANABARA Exercício Pytho #010\n",
        "\n",
        "real = float(input(\"Digite o valor em reais, R$:\"))# não digitar vírgula ex 500,00 colocar .\n",
        "cotacao = float(input(\"Digite o valor do dolar, U$$: \"))\n",
        "dolar = real / cotacao\n",
        "print(\"Com R${:.2f} correspondem a U$${:.2f}\".format(real, dolar))"
      ]
    },
    {
      "cell_type": "code",
      "source": [
        ""
      ],
      "metadata": {
        "id": "eGW4-8_nFsCI"
      },
      "execution_count": null,
      "outputs": []
    }
  ]
}