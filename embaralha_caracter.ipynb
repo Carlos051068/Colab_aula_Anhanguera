{
  "nbformat": 4,
  "nbformat_minor": 0,
  "metadata": {
    "colab": {
      "name": "convertecaractermaiusc.ipynb",
      "provenance": [],
      "authorship_tag": "ABX9TyO2mfs7IH7a5psl3jkVrOP9",
      "include_colab_link": true
    },
    "kernelspec": {
      "name": "python3",
      "display_name": "Python 3"
    },
    "language_info": {
      "name": "python"
    }
  },
  "cells": [
    {
      "cell_type": "markdown",
      "metadata": {
        "id": "view-in-github",
        "colab_type": "text"
      },
      "source": [
        "<a href=\"https://colab.research.google.com/github/Carlos051068/Colab_aula_Anhanguera/blob/main/embaralha_caracter.ipynb\" target=\"_parent\"><img src=\"https://colab.research.google.com/assets/colab-badge.svg\" alt=\"Open In Colab\"/></a>"
      ]
    },
    {
      "cell_type": "code",
      "execution_count": 38,
      "metadata": {
        "id": "mZ3QRVOteH0y",
        "colab": {
          "base_uri": "https://localhost:8080/"
        },
        "outputId": "0b14734c-5f55-4dc0-bbfd-1803112d5cf9"
      },
      "outputs": [
        {
          "output_type": "stream",
          "name": "stdout",
          "text": [
            "Digite algo: Carlos Alberto Caetano da Silva\n",
            "aicracbdtt  eoaleornallsoas  av\n"
          ]
        }
      ],
      "source": [
        "from random import shuffle\n",
        "def embaralha(nome):\n",
        "    a = list(nome)\n",
        "    shuffle(a)\n",
        "    a = ''.join(a)\n",
        "    print(a.lower())\n",
        "\n",
        "\n",
        "nome = input('Digite algo: ')\n",
        "embaralha(nome)"
      ]
    },
    {
      "cell_type": "code",
      "source": [
        ""
      ],
      "metadata": {
        "id": "eGW4-8_nFsCI"
      },
      "execution_count": null,
      "outputs": []
    }
  ]
}