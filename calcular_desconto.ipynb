{
  "nbformat": 4,
  "nbformat_minor": 0,
  "metadata": {
    "colab": {
      "name": "convertecaractermaiusc.ipynb",
      "provenance": [],
      "authorship_tag": "ABX9TyOqzQZ36+M6WRcoLMWIiyCQ",
      "include_colab_link": true
    },
    "kernelspec": {
      "name": "python3",
      "display_name": "Python 3"
    },
    "language_info": {
      "name": "python"
    }
  },
  "cells": [
    {
      "cell_type": "markdown",
      "metadata": {
        "id": "view-in-github",
        "colab_type": "text"
      },
      "source": [
        "<a href=\"https://colab.research.google.com/github/Carlos051068/Colab_aula_Anhanguera/blob/main/calcular_desconto.ipynb\" target=\"_parent\"><img src=\"https://colab.research.google.com/assets/colab-badge.svg\" alt=\"Open In Colab\"/></a>"
      ]
    },
    {
      "cell_type": "code",
      "execution_count": 18,
      "metadata": {
        "id": "mZ3QRVOteH0y"
      },
      "outputs": [],
      "source": [
        "#AULA 1 ANHANGUERA LINGUAGEM DE PROGRAMAÇÃO\n",
        "\n",
        "# parametros e funções.\n",
        "# Parametro posicional, obrigatório, com valor default (padrão), quando\n",
        "# a função for invocada, caso nenhum valor seja passado, o valor default é utilizado.\n",
        "\n",
        "def calcular_desconto(valor, desconto = 0): # O parâmetro desconto possui zero valor default\n",
        "  valor_com_desconto = valor-(valor*desconto)\n",
        "  return valor_com_desconto\n",
        "\n",
        "  valor1 = calcular_desconto(100) # Não aplicar nenhum desconto\n",
        "  valor2 = calcular_desconto(100, 0.25) # Aplicar desconto de 25%\n",
        "\n",
        "  print(f\"\\nPrimeiro valor a ser pago = {valor1}\")\n",
        "  print(f\"\\nSegundo valor a ser pago = {valor2}\")"
      ]
    },
    {
      "cell_type": "code",
      "source": [
        ""
      ],
      "metadata": {
        "id": "eGW4-8_nFsCI"
      },
      "execution_count": null,
      "outputs": []
    }
  ]
}