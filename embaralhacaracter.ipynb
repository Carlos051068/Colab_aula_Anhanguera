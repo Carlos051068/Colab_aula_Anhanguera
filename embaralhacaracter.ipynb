{
  "nbformat": 4,
  "nbformat_minor": 0,
  "metadata": {
    "colab": {
      "name": "embaralhacaracter.ipynb",
      "provenance": [],
      "authorship_tag": "ABX9TyMjd2ST7B2Wz3hHMLrEUspB",
      "include_colab_link": true
    },
    "kernelspec": {
      "name": "python3",
      "display_name": "Python 3"
    },
    "language_info": {
      "name": "python"
    }
  },
  "cells": [
    {
      "cell_type": "markdown",
      "metadata": {
        "id": "view-in-github",
        "colab_type": "text"
      },
      "source": [
        "<a href=\"https://colab.research.google.com/github/Carlos051068/Colab_aula_Anhanguera/blob/main/embaralhacaracter.ipynb\" target=\"_parent\"><img src=\"https://colab.research.google.com/assets/colab-badge.svg\" alt=\"Open In Colab\"/></a>"
      ]
    },
    {
      "cell_type": "code",
      "execution_count": 1,
      "metadata": {
        "colab": {
          "base_uri": "https://localhost:8080/"
        },
        "id": "mZ3QRVOteH0y",
        "outputId": "c2369dda-6407-402c-e3bb-d032e1b6ead2"
      },
      "outputs": [
        {
          "output_type": "stream",
          "name": "stdout",
          "text": [
            "linguagem de programação\n",
            "aguegariod mreg oãçpmnal\n",
            "LINGUAGEM DE PROGRAMAÇÃO\n",
            "AGUEGARIOD MREG OÃÇPMNAL\n"
          ]
        }
      ],
      "source": [
        "#https://colab.research.google.com/drive/1_9GAHojgYARJ1g7WUKsBQxB8B-yRGW_n#scrollTo=mZ3QRVOteH0y\n",
        "from random import shuffle\n",
        "frase = ('Linguagem de Programação')\n",
        "\n",
        "def embaralha_texto(frase):\n",
        "    x = list(frase)\n",
        "    shuffle(x)\n",
        "    x = ''.join(x)\n",
        "    print(frase.lower())\n",
        "    print(x.lower())\n",
        "    print(frase.upper())\n",
        "    print(x.upper())\n",
        "\n",
        "embaralha_texto(frase)"
      ]
    },
    {
      "cell_type": "code",
      "source": [
        ""
      ],
      "metadata": {
        "id": "eGW4-8_nFsCI"
      },
      "execution_count": null,
      "outputs": []
    }
  ]
}