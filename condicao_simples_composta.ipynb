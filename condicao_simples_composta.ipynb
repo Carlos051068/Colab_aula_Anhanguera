{
  "nbformat": 4,
  "nbformat_minor": 0,
  "metadata": {
    "colab": {
      "name": "convertecaractermaiusc.ipynb",
      "provenance": [],
      "authorship_tag": "ABX9TyNWN0fLDYJLEhUa772JQwuC",
      "include_colab_link": true
    },
    "kernelspec": {
      "name": "python3",
      "display_name": "Python 3"
    },
    "language_info": {
      "name": "python"
    }
  },
  "cells": [
    {
      "cell_type": "markdown",
      "metadata": {
        "id": "view-in-github",
        "colab_type": "text"
      },
      "source": [
        "<a href=\"https://colab.research.google.com/github/Carlos051068/Colab_aula_Anhanguera/blob/main/condicao_simples_composta.ipynb\" target=\"_parent\"><img src=\"https://colab.research.google.com/assets/colab-badge.svg\" alt=\"Open In Colab\"/></a>"
      ]
    },
    {
      "cell_type": "code",
      "execution_count": null,
      "metadata": {
        "id": "mZ3QRVOteH0y",
        "colab": {
          "base_uri": "https://localhost:8080/"
        },
        "outputId": "e5097695-271f-49d6-f9f0-98d6b4a5d458"
      },
      "outputs": [
        {
          "output_type": "stream",
          "name": "stdout",
          "text": [
            "DIGITE A NOTA DO 1º BIMESTRE: 6.0\n",
            "DIGITE A NOTA DO 2º BIMESTRE: 6.0\n",
            "DIGITE A NOTA DO 3º BIMESTRE: 6.0\n",
            "DIGITE A NOTA DO 4º BIMESTRE: 6.0\n",
            "----------------------------------\n",
            "A MÉDIA FOI DE:6.0 \n",
            "SUA MÉDIA FOI BOA, PARABÉNS!\n"
          ]
        }
      ],
      "source": [
        "n1 = float(input('DIGITE A NOTA DO 1º BIMESTRE: '))\n",
        "n2 = float(input('DIGITE A NOTA DO 2º BIMESTRE: '))\n",
        "n3 = float(input('DIGITE A NOTA DO 3º BIMESTRE: '))\n",
        "n4 = float(input('DIGITE A NOTA DO 4º BIMESTRE: '))\n",
        "print('-'*34)\n",
        "media = (n1+n2+n3+n4)/4\n",
        "print('A MÉDIA FOI DE:{:.1f} '.format(media))\n",
        "if media >= 6.0: #media maior ou igual a 6.0\n",
        "  print('SUA MÉDIA FOI BOA, PARABÉNS!')\n",
        "else:\n",
        "  print('ESTUDE MAIS, SUA MÉDIA FOI MUITO BAIXA!')\n",
        "#print('Sua média foi muito boa, parabéns!' if media >= 6.0 else 'Estude mais, sua média foi muito baixa!')\n",
        "#print('\\n O programa só imprime as duas frase se o nome\\n for caetano051068, caso contrário, imprime somente\\n a segunda.\\n Estrutura condicional simples (somente if = se). \\n Caso tenha if e else = se não, a estruta sera composta.')"
      ]
    },
    {
      "cell_type": "code",
      "source": [],
      "metadata": {
        "id": "eGW4-8_nFsCI"
      },
      "execution_count": null,
      "outputs": []
    }
  ]
}