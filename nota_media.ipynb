{
  "nbformat": 4,
  "nbformat_minor": 0,
  "metadata": {
    "colab": {
      "name": "convertecaractermaiusc.ipynb",
      "provenance": [],
      "authorship_tag": "ABX9TyOh3eae2/yIico4d2tqQR4s",
      "include_colab_link": true
    },
    "kernelspec": {
      "name": "python3",
      "display_name": "Python 3"
    },
    "language_info": {
      "name": "python"
    }
  },
  "cells": [
    {
      "cell_type": "markdown",
      "metadata": {
        "id": "view-in-github",
        "colab_type": "text"
      },
      "source": [
        "<a href=\"https://colab.research.google.com/github/Carlos051068/Colab_aula_Anhanguera/blob/main/nota_media.ipynb\" target=\"_parent\"><img src=\"https://colab.research.google.com/assets/colab-badge.svg\" alt=\"Open In Colab\"/></a>"
      ]
    },
    {
      "cell_type": "code",
      "execution_count": 21,
      "metadata": {
        "id": "mZ3QRVOteH0y",
        "colab": {
          "base_uri": "https://localhost:8080/"
        },
        "outputId": "6852115b-4330-47f6-d3b0-1f21f6ae7732"
      },
      "outputs": [
        {
          "output_type": "stream",
          "name": "stdout",
          "text": [
            "Primeira nota do aluno:  5.0\n",
            "Segunda nota do aluno:  7.0\n",
            "A média entre 5.0 e 7.0 e igual = 6.0\n"
          ]
        }
      ],
      "source": [
        "n1 = float(input(\"Primeira nota do aluno:  \"))\n",
        "\n",
        "n2 = float(input(\"Segunda nota do aluno:  \"))\n",
        "\n",
        "média = (n1 +n2)/2\n",
        "\n",
        "print(\"A média entre {:.1f} e {:.1f} e igual = {}\".format(n1, n2, média))\n",
        "\n",
        "#{:.1f} permite apenas um dígito após a vírgula."
      ]
    },
    {
      "cell_type": "code",
      "source": [
        ""
      ],
      "metadata": {
        "id": "eGW4-8_nFsCI"
      },
      "execution_count": null,
      "outputs": []
    }
  ]
}