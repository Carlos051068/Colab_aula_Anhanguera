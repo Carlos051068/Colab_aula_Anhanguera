{
  "nbformat": 4,
  "nbformat_minor": 0,
  "metadata": {
    "colab": {
      "name": "convertecaractermaiusc.ipynb",
      "provenance": [],
      "authorship_tag": "ABX9TyOKQSvVC8npbtxxDgib36ul",
      "include_colab_link": true
    },
    "kernelspec": {
      "name": "python3",
      "display_name": "Python 3"
    },
    "language_info": {
      "name": "python"
    }
  },
  "cells": [
    {
      "cell_type": "markdown",
      "metadata": {
        "id": "view-in-github",
        "colab_type": "text"
      },
      "source": [
        "<a href=\"https://colab.research.google.com/github/Carlos051068/Colab_aula_Anhanguera/blob/main/manipulando_texto_caracter.ipynb\" target=\"_parent\"><img src=\"https://colab.research.google.com/assets/colab-badge.svg\" alt=\"Open In Colab\"/></a>"
      ]
    },
    {
      "cell_type": "code",
      "execution_count": 35,
      "metadata": {
        "id": "mZ3QRVOteH0y",
        "colab": {
          "base_uri": "https://localhost:8080/"
        },
        "outputId": "46b1b8d0-33ec-4091-c95b-8b65c6333687"
      },
      "outputs": [
        {
          "output_type": "stream",
          "name": "stdout",
          "text": [
            "Curso em Video Pytho\n",
            "s\n",
            "so em Vide\n",
            "Curso em Vide\n",
            "o Pytho\n",
            "us mVdo\n",
            "Croe ie yh\n",
            "3\n",
            "20\n",
            "20\n",
            "Curso em Video Android\n",
            "9\n",
            "9\n",
            "['Curso', 'em', 'Video', 'Pytho']\n",
            "Curso\n",
            "e\n"
          ]
        }
      ],
      "source": [
        "#CURSO EM VIDEO PYTHON - Curso Python #09 - Manipulando texto - cadeia de caracteres\n",
        "\n",
        "frase = 'Curso em Video Pytho' \n",
        "# fatiamento (pedaços da frase) frase[9] identifica o caracter 9, V\n",
        "# frase [9:13] imprime de 9 a 12º caracter, Vide. [9:21] imprime de 9 a 20º caracter. \n",
        "# [9:21:2] imprime o 9 pulando de 2 em 2,VdoPt. \n",
        "#[:5] e igual a [0:5]. [15:] imprime Python. [9::3] imprime no 9 pulando de 3 em 3 VePh.\n",
        "# Análise (analisar a string) len(frase)é o comprimento da frase, 21 caracter\n",
        "# frase.count(\"o\") conta quantas letras o tem na frase. \n",
        "# A frase.count('O',0,13)conta as letras o até posição 12.\n",
        "# frase.find(\"deo\") indica a posição que começa o deo. \n",
        "# frase.find(\"Android\") retorna -1 se não existir.\n",
        "# \"Curso\"in frase  existe a palavra? caso sim(TRUE)\n",
        "# TRANSFORMAÇÃO\n",
        "# frase.replace(\"Python\",\"Android\") substitui\n",
        "# frase.upper() transforma tudo em maiúsculo\n",
        "# frase.lower() transforma tudo para minúsculo\n",
        "# frase.capitaliza() transforma tudo para minúsculo, execo a primeira letra\n",
        "# frase.title() transforma todas as iniciais em maiúsculo C E V P\n",
        "# frase.strip() remove todos os espaços iniciais e finas. .rstrip ou lstrip remove a direita(r), e esquerda(l)\n",
        "# DIVISÃO\n",
        "# frase.split() divide a frase (string) onde tem espaços em branco, gerando uma nova lista.\n",
        "# JUNÇÃO\n",
        "# '-'.join(frase), acrescenta hifen nos espaços em branco\n",
        "print(frase)\n",
        "print(frase[3])\n",
        "print(frase[3:13])\n",
        "print(frase[:13])\n",
        "print(frase[13:])\n",
        "print(frase[1:15:2]) #DE 2 EM 2\n",
        "print(frase[::2]) # DE 2 EM 2\n",
        "# print(\"\"\" para texto longo de várias linhas \"\"\") três aspas\n",
        "print(frase.count('o')) # número de letra o.\n",
        "print(len(frase)) #conta o tamanho da frase\n",
        "print(len(frase.strip()))\n",
        "print(frase.replace('Pytho','Android')) #substitui Python por Android\n",
        "print(frase.find('Video')) # Mostra a posição em que está a palavra Video\n",
        "print(frase.lower().find('video')) #lower transforma pra minúsculo, find localiza(posição) video em minúsculo\n",
        "print(frase.split()) # cria lista\n",
        "dividido = frase.split()\n",
        "print(dividido[0])\n",
        "print(dividido[2][3]) #[2]é Video, [3] é letra e\n"
      ]
    },
    {
      "cell_type": "code",
      "source": [
        ""
      ],
      "metadata": {
        "id": "eGW4-8_nFsCI"
      },
      "execution_count": null,
      "outputs": []
    }
  ]
}