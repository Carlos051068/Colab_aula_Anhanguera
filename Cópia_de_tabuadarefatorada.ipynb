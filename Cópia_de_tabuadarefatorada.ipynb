{
  "nbformat": 4,
  "nbformat_minor": 0,
  "metadata": {
    "colab": {
      "name": "Cópia de tabuadarefatorada.ipynb",
      "provenance": [],
      "authorship_tag": "ABX9TyMblBEQVfP6W4mTuRAvG47B",
      "include_colab_link": true
    },
    "kernelspec": {
      "name": "python3",
      "display_name": "Python 3"
    },
    "language_info": {
      "name": "python"
    }
  },
  "cells": [
    {
      "cell_type": "markdown",
      "metadata": {
        "id": "view-in-github",
        "colab_type": "text"
      },
      "source": [
        "<a href=\"https://colab.research.google.com/github/Carlos051068/Colab_aula_Anhanguera/blob/main/C%C3%B3pia_de_tabuadarefatorada.ipynb\" target=\"_parent\"><img src=\"https://colab.research.google.com/assets/colab-badge.svg\" alt=\"Open In Colab\"/></a>"
      ]
    },
    {
      "cell_type": "code",
      "execution_count": 1,
      "metadata": {
        "colab": {
          "base_uri": "https://localhost:8080/"
        },
        "id": "mZ3QRVOteH0y",
        "outputId": "e5712f64-2910-45ca-e8f6-5d9152c3ad56"
      },
      "outputs": [
        {
          "output_type": "stream",
          "name": "stdout",
          "text": [
            "--------------------------------------------------\n",
            " Digite um número para exibir sua tabuada:  4\n",
            "--------------------------------------------------\n",
            " MULTIPLICAÇÃO      ADIÇÃO         SUBTRAÇÃO\n",
            "--------------------------------------------------\n",
            "| 1 x  4 =  4 |   1 +  4 =  5  |   1 -  4 = -3   |\n",
            "--------------------------------------------------\n",
            "| 2 x  4 =  8 |   2 +  4 =  6  |   2 -  4 = -2   |\n",
            "--------------------------------------------------\n",
            "| 3 x  4 = 12 |   3 +  4 =  7  |   3 -  4 = -1   |\n",
            "--------------------------------------------------\n",
            "| 4 x  4 = 16 |   4 +  4 =  8  |   4 -  4 =  0   |\n",
            "--------------------------------------------------\n",
            "| 5 x  4 = 20 |   5 +  4 =  9  |   5 -  4 =  1   |\n",
            "--------------------------------------------------\n",
            "| 6 x  4 = 24 |   6 +  4 = 10  |   6 -  4 =  2   |\n",
            "--------------------------------------------------\n",
            "| 7 x  4 = 28 |   7 +  4 = 11  |   7 -  4 =  3   |\n",
            "--------------------------------------------------\n",
            "| 8 x  4 = 32 |   8 +  4 = 12  |   8 -  4 =  4   |\n",
            "--------------------------------------------------\n",
            "| 9 x  4 = 36 |   9 +  4 = 13  |   9 -  4 =  5   |\n",
            "--------------------------------------------------\n",
            "|10 x  4 = 40 |  10 +  4 = 14  |  10 -  4 =  6   |\n"
          ]
        }
      ],
      "source": [
        "# https://colab.research.google.com/drive/1_9GAHojgYARJ1g7WUKsBQxB8B-yRGW_n#scrollTo=mZ3QRVOteH0y\n",
        "print('-'*50)\n",
        "num = int(input(' Digite um número para exibir sua tabuada:  '))\n",
        "print('-'*50)\n",
        "print(' MULTIPLICAÇÃO      ADIÇÃO         SUBTRAÇÃO')\n",
        "for c in range(1,11):\n",
        "    print('-'*50)\n",
        "    print('|{:2} x {:2} = {:2} |  {:2} + {:2} = {:2}  |  {:2} - {:2} = {:2}   |'.format(c, num, num*c, c, num, num+c, c, num, c-num))"
      ]
    },
    {
      "cell_type": "code",
      "source": [
        ""
      ],
      "metadata": {
        "id": "eGW4-8_nFsCI"
      },
      "execution_count": null,
      "outputs": []
    }
  ]
}