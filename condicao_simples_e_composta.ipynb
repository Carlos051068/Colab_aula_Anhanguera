{
  "nbformat": 4,
  "nbformat_minor": 0,
  "metadata": {
    "colab": {
      "name": "convertecaractermaiusc.ipynb",
      "provenance": [],
      "authorship_tag": "ABX9TyOoYPGiQ1YcPp+QtI2Cg8X/",
      "include_colab_link": true
    },
    "kernelspec": {
      "name": "python3",
      "display_name": "Python 3"
    },
    "language_info": {
      "name": "python"
    }
  },
  "cells": [
    {
      "cell_type": "markdown",
      "metadata": {
        "id": "view-in-github",
        "colab_type": "text"
      },
      "source": [
        "<a href=\"https://colab.research.google.com/github/Carlos051068/Colab_aula_Anhanguera/blob/main/condicao_simples_e_composta.ipynb\" target=\"_parent\"><img src=\"https://colab.research.google.com/assets/colab-badge.svg\" alt=\"Open In Colab\"/></a>"
      ]
    },
    {
      "cell_type": "code",
      "execution_count": 31,
      "metadata": {
        "id": "mZ3QRVOteH0y",
        "colab": {
          "base_uri": "https://localhost:8080/"
        },
        "outputId": "488053c8-f637-4e72-be13-e559742584a7"
      },
      "outputs": [
        {
          "output_type": "stream",
          "name": "stdout",
          "text": [
            "Qual é o seu nome: caetano051068\n",
            "Olá, esse é o seu nome base de e-mail, hotmail e gmail!\n",
            "Olá caetano051068, é um prazer tê-lo aqui!\n",
            "\n",
            " O programa só imprime as duas frase se o nome\n",
            " for caetano051068, caso contrário, imprime somente\n",
            " a segunda.\n",
            " Estrutura condicional simples (somente if = se). \n",
            " Caso tenha if e else = se não, a estrutura será composta.\n"
          ]
        }
      ],
      "source": [
        "nome = str(input('Qual é o seu nome: ')) \n",
        "if nome == 'caetano051068':        \n",
        "  print('Olá, esse é o seu nome base de e-mail, hotmail e gmail!')\n",
        "print('Olá {}, é um prazer tê-lo aqui!'.format(nome))\n",
        "print('\\n O programa só imprime as duas frase se o nome\\n for caetano051068, caso contrário, imprime somente\\n a segunda.\\n Estrutura condicional simples (somente if = se). \\n Caso tenha if e else = se não, a estrutura será composta.')\n",
        "#aula Gustavo Guanabara, Curso Python #10 - Condições (Parte 1), https://www.youtube.com/watch?v=K10u3XIf1-Q&t=1550s\n"
      ]
    },
    {
      "cell_type": "code",
      "source": [],
      "metadata": {
        "id": "eGW4-8_nFsCI"
      },
      "execution_count": null,
      "outputs": []
    }
  ]
}