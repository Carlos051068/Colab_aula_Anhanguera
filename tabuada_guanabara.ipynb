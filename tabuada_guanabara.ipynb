{
  "nbformat": 4,
  "nbformat_minor": 0,
  "metadata": {
    "colab": {
      "name": "convertecaractermaiusc.ipynb",
      "provenance": [],
      "authorship_tag": "ABX9TyPVVuITLVejlsljGAlxLi+p",
      "include_colab_link": true
    },
    "kernelspec": {
      "name": "python3",
      "display_name": "Python 3"
    },
    "language_info": {
      "name": "python"
    }
  },
  "cells": [
    {
      "cell_type": "markdown",
      "metadata": {
        "id": "view-in-github",
        "colab_type": "text"
      },
      "source": [
        "<a href=\"https://colab.research.google.com/github/Carlos051068/Colab_aula_Anhanguera/blob/main/tabuada_guanabara.ipynb\" target=\"_parent\"><img src=\"https://colab.research.google.com/assets/colab-badge.svg\" alt=\"Open In Colab\"/></a>"
      ]
    },
    {
      "cell_type": "code",
      "execution_count": 36,
      "metadata": {
        "id": "mZ3QRVOteH0y",
        "colab": {
          "base_uri": "https://localhost:8080/"
        },
        "outputId": "0ef99c41-a84f-4a68-9b4c-da19568317cf"
      },
      "outputs": [
        {
          "output_type": "stream",
          "name": "stdout",
          "text": [
            "Digite um número para exibir sua tabuada: 6\n",
            "--------------------------------------------------\n",
            "| 1 x  6 =  6 |   1 +  6 =  7  |   1 -  6 = -5   |\n",
            "--------------------------------------------------\n",
            "| 2 x  6 = 12 |   2 +  6 =  8  |   2 -  6 = -4   |\n",
            "--------------------------------------------------\n",
            "| 3 x  6 = 18 |   3 +  6 =  9  |   3 -  6 = -3   |\n",
            "--------------------------------------------------\n",
            "| 4 x  6 = 24 |   4 +  6 = 10  |   4 -  6 = -2   |\n",
            "--------------------------------------------------\n",
            "| 5 x  6 = 30 |   5 +  6 = 11  |   5 -  6 = -1   |\n",
            "--------------------------------------------------\n",
            "| 6 x  6 = 36 |   6 +  6 = 12  |   6 -  6 =  0   |\n",
            "--------------------------------------------------\n",
            "| 7 x  6 = 42 |   7 +  6 = 13  |   7 -  6 =  1   |\n",
            "--------------------------------------------------\n",
            "| 8 x  6 = 48 |   8 +  6 = 14  |   8 -  6 =  2   |\n",
            "--------------------------------------------------\n",
            "| 9 x  6 = 54 |   9 +  6 = 15  |   9 -  6 =  3   |\n",
            "--------------------------------------------------\n",
            "|10 x  6 = 60 |  10 +  6 = 16  |  10 -  6 =  4   |\n"
          ]
        }
      ],
      "source": [
        "#CURSO EM VIDEO PYTHON - Exercício Python #49 - Tabuada\n",
        "num = int(input('Digite um número para exibir sua tabuada: '))\n",
        "for c in range(1,11):\n",
        "    print('-'*50)\n",
        "    print('|{:2} x {:2} = {:2} |  {:2} + {:2} = {:2}  |  {:2} - {:2} = {:2}   |'.format(c, num, num*c, c, num, num+c, c, num, c-num))\n"
      ]
    },
    {
      "cell_type": "code",
      "source": [
        ""
      ],
      "metadata": {
        "id": "eGW4-8_nFsCI"
      },
      "execution_count": null,
      "outputs": []
    }
  ]
}