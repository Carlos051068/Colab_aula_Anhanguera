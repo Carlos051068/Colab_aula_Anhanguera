{
  "nbformat": 4,
  "nbformat_minor": 0,
  "metadata": {
    "colab": {
      "name": "convertecaractermaiusc.ipynb",
      "provenance": [],
      "authorship_tag": "ABX9TyMrUBpWjIGZlEbDi4SXkuak",
      "include_colab_link": true
    },
    "kernelspec": {
      "name": "python3",
      "display_name": "Python 3"
    },
    "language_info": {
      "name": "python"
    }
  },
  "cells": [
    {
      "cell_type": "markdown",
      "metadata": {
        "id": "view-in-github",
        "colab_type": "text"
      },
      "source": [
        "<a href=\"https://colab.research.google.com/github/Carlos051068/Colab_aula_Anhanguera/blob/main/busca_sequencial.ipynb\" target=\"_parent\"><img src=\"https://colab.research.google.com/assets/colab-badge.svg\" alt=\"Open In Colab\"/></a>"
      ]
    },
    {
      "cell_type": "code",
      "execution_count": 34,
      "metadata": {
        "id": "mZ3QRVOteH0y",
        "colab": {
          "base_uri": "https://localhost:8080/",
          "height": 131
        },
        "outputId": "87c5be07-d423-40c0-ac4a-a87af6d77c51"
      },
      "outputs": [
        {
          "output_type": "error",
          "ename": "IndentationError",
          "evalue": "ignored",
          "traceback": [
            "\u001b[0;36m  File \u001b[0;32m\"<tokenize>\"\u001b[0;36m, line \u001b[0;32m16\u001b[0m\n\u001b[0;31m    testelista = [2, 10, 8, 15, 18, 20, 12, 1] #é mostrado um vetor com 8 elementos (0 a 7 elementos)\u001b[0m\n\u001b[0m    ^\u001b[0m\n\u001b[0;31mIndentationError\u001b[0m\u001b[0;31m:\u001b[0m unindent does not match any outer indentation level\n"
          ]
        }
      ],
      "source": [
        "#ANHANGUERA CW2 LINGUAGEM DE PROGRAMAÇÃO ALGORITMO DE BUSCA\n",
        "#ALGORITMO DE BUSCA SEQUENCIAL vetor de entrada com números desordenados\n",
        "\n",
        "def busca_sequencial(lista, elemento):\n",
        "    pos = 0\n",
        "    encontrado = False\n",
        "\n",
        "    while pos < len(lista) and not encontrado:\n",
        "          if lista[pos] == elemento: #“if”, “else” traz a condição para encontrar ou não o elemento do vetor – no caso, se a posição da lista corresponde ao elemento procurado (valor), será exibido True (verdadeiro), se não corresponder, haverá um incremento e o próximo elemento será visitado na sequência da lista.\n",
        "             encontrado = True\n",
        "\n",
        "          else:\n",
        "              pos = pos+1\n",
        "    return encontrado\n",
        "\n",
        "  testelista = [2, 10, 8, 15, 18, 20, 12, 1] #é mostrado um vetor com 8 elementos (0 a 7 elementos)\n",
        "  print(busca_sequencial(testelista, 5)) #é buscado o elemento 5 na lista\n",
        "  print(busca_sequencial(testelista, 15)) #"
      ]
    },
    {
      "cell_type": "code",
      "source": [
        ""
      ],
      "metadata": {
        "id": "eGW4-8_nFsCI"
      },
      "execution_count": null,
      "outputs": []
    }
  ]
}