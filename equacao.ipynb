{
  "nbformat": 4,
  "nbformat_minor": 0,
  "metadata": {
    "colab": {
      "name": "convertecaractermaiusc.ipynb",
      "provenance": [],
      "authorship_tag": "ABX9TyNk3lSd6cCXpI2Vx6KAcseP",
      "include_colab_link": true
    },
    "kernelspec": {
      "name": "python3",
      "display_name": "Python 3"
    },
    "language_info": {
      "name": "python"
    }
  },
  "cells": [
    {
      "cell_type": "markdown",
      "metadata": {
        "id": "view-in-github",
        "colab_type": "text"
      },
      "source": [
        "<a href=\"https://colab.research.google.com/github/Carlos051068/Colab_aula_Anhanguera/blob/main/equacao.ipynb\" target=\"_parent\"><img src=\"https://colab.research.google.com/assets/colab-badge.svg\" alt=\"Open In Colab\"/></a>"
      ]
    },
    {
      "cell_type": "code",
      "execution_count": 13,
      "metadata": {
        "id": "mZ3QRVOteH0y",
        "colab": {
          "base_uri": "https://localhost:8080/"
        },
        "outputId": "fb9a7fd4-ee0d-4b30-cedf-8482a6146f49"
      },
      "outputs": [
        {
          "output_type": "stream",
          "name": "stdout",
          "text": [
            "Digite a fórmula geral da equação linear (a * x + b):3\n",
            "\n",
            "A entrada do usuário 3 é do tipo <class 'str'>\n",
            "\n",
            "Resultado da equação para x = 0 é 3\n",
            "\n",
            "Resultado da equação para x = 1 é 3\n",
            "\n",
            "Resultado da equação para x = 2 é 3\n",
            "\n",
            "Resultado da equação para x = 3 é 3\n",
            "\n",
            "Resultado da equação para x = 4 é 3\n"
          ]
        }
      ],
      "source": [
        "# funções e equações.\n",
        "\n",
        "a = 2\n",
        "b = 1\n",
        "#AULA 1 ANHANGUERA LINGUAGEM DE PROGRAMAÇÃO\n",
        "\n",
        "equacao = input(\"Digite a fórmula geral da equação linear (a * x + b):\")\n",
        "print(f\"\\nA entrada do usuário {equacao} é do tipo {type(equacao)}\")\n",
        "\n",
        "for x in range(5):\n",
        "    y = eval(equacao)\n",
        "    print(f\"\\nResultado da equação para x = {x} é {y}\")"
      ]
    },
    {
      "cell_type": "code",
      "source": [
        ""
      ],
      "metadata": {
        "id": "eGW4-8_nFsCI"
      },
      "execution_count": null,
      "outputs": []
    }
  ]
}