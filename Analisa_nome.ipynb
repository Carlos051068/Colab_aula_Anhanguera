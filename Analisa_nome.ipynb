{
  "nbformat": 4,
  "nbformat_minor": 0,
  "metadata": {
    "colab": {
      "name": "Untitled0.ipynb",
      "provenance": [],
      "authorship_tag": "ABX9TyND3Z+L4sqEJWLN/sf7xHMf",
      "include_colab_link": true
    },
    "kernelspec": {
      "name": "python3",
      "display_name": "Python 3"
    },
    "language_info": {
      "name": "python"
    }
  },
  "cells": [
    {
      "cell_type": "markdown",
      "metadata": {
        "id": "view-in-github",
        "colab_type": "text"
      },
      "source": [
        "<a href=\"https://colab.research.google.com/github/Carlos051068/Colab_aula_Anhanguera/blob/main/Analisa_nome.ipynb\" target=\"_parent\"><img src=\"https://colab.research.google.com/assets/colab-badge.svg\" alt=\"Open In Colab\"/></a>"
      ]
    },
    {
      "cell_type": "code",
      "execution_count": 47,
      "metadata": {
        "colab": {
          "base_uri": "https://localhost:8080/"
        },
        "id": "Xjicn9CEFp31",
        "outputId": "63f03e58-fc84-4246-c319-1537692eeaca"
      },
      "outputs": [
        {
          "output_type": "stream",
          "name": "stdout",
          "text": [
            "Digite seu nome completo:Pedro da Silva\n",
            "Analisando seu nome...\n",
            "Seu nome em maiúscula é PEDRO DA SILVA\n",
            "Seu nome em minúscula é pedro da silva\n",
            "Seu nome tem 12 letras\n",
            "Seu primeiro nome tem 5 letras\n",
            "Seu primeiro nome é Pedro e ele tem 5 letras\n"
          ]
        }
      ],
      "source": [
        "# exercício Python #022 - ANALISADOR DE TEXTO - AULA #009 Guanabara https://www.youtube.com/watch?v=EQQt-6QqXOs&t=2s\n",
        "#( nome, maiúscula, minúscula, qtd caracter s/espaço, qtd letra no 1º nome')\n",
        "\n",
        "nome = str(input('Digite seu nome completo:')).strip()\n",
        "print('Analisando seu nome...')\n",
        "print('Seu nome em maiúscula é {}'.format(nome.upper()))\n",
        "print('Seu nome em minúscula é {}'.format(nome.lower()))\n",
        "print('Seu nome tem {} letras'.format(len(nome) - nome.count(' ')))\n",
        "print('Seu primeiro nome tem {} letras'.format(nome.find(' ')))\n",
        "separa = nome.split()\n",
        "print('Seu primeiro nome é {} e ele tem {} letras'.format(separa[0], len(separa[0])))"
      ]
    },
    {
      "cell_type": "code",
      "source": [
        ""
      ],
      "metadata": {
        "id": "BlrNxxBPGBej"
      },
      "execution_count": null,
      "outputs": []
    }
  ]
}