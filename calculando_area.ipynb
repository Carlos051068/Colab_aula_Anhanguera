{
  "nbformat": 4,
  "nbformat_minor": 0,
  "metadata": {
    "colab": {
      "name": "convertecaractermaiusc.ipynb",
      "provenance": [],
      "authorship_tag": "ABX9TyM95DK/N4nji+AJFB19iXiG",
      "include_colab_link": true
    },
    "kernelspec": {
      "name": "python3",
      "display_name": "Python 3"
    },
    "language_info": {
      "name": "python"
    }
  },
  "cells": [
    {
      "cell_type": "markdown",
      "metadata": {
        "id": "view-in-github",
        "colab_type": "text"
      },
      "source": [
        "<a href=\"https://colab.research.google.com/github/Carlos051068/Colab_aula_Anhanguera/blob/main/calculando_area.ipynb\" target=\"_parent\"><img src=\"https://colab.research.google.com/assets/colab-badge.svg\" alt=\"Open In Colab\"/></a>"
      ]
    },
    {
      "cell_type": "code",
      "execution_count": 24,
      "metadata": {
        "id": "mZ3QRVOteH0y",
        "colab": {
          "base_uri": "https://localhost:8080/"
        },
        "outputId": "dba3ac1f-08ce-4c12-f044-38cf59872682"
      },
      "outputs": [
        {
          "output_type": "stream",
          "name": "stdout",
          "text": [
            "Digite a largura da parede: 12.0\n",
            "Digite a altura: 2.30\n",
            "A área corresponde a 27.60m2.\n",
            "Para pintar essa área, você precisa de 13.80 litros de tinta.\n"
          ]
        }
      ],
      "source": [
        "#CALCULANDO ÁREA -  GUANABARA Exercício Pytho #011\n",
        "\n",
        "largura = float(input(\"Digite a largura da parede: \"))\n",
        "altura = float(input(\"Digite a altura: \"))\n",
        "area = largura * altura\n",
        "print(\"A área corresponde a {:.2f}m2.\".format(area))\n",
        "tinta = area / 2\n",
        "print(\"Para pintar essa área, você precisa de {:.2f} litros de tinta.\".format(tinta))"
      ]
    },
    {
      "cell_type": "code",
      "source": [
        ""
      ],
      "metadata": {
        "id": "eGW4-8_nFsCI"
      },
      "execution_count": null,
      "outputs": []
    }
  ]
}