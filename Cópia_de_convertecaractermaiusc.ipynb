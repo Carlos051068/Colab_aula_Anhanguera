{
  "nbformat": 4,
  "nbformat_minor": 0,
  "metadata": {
    "colab": {
      "name": "Cópia de convertecaractermaiusc.ipynb",
      "provenance": [],
      "authorship_tag": "ABX9TyNXj35KpgMzK1/gB0uXq/mw",
      "include_colab_link": true
    },
    "kernelspec": {
      "name": "python3",
      "display_name": "Python 3"
    },
    "language_info": {
      "name": "python"
    }
  },
  "cells": [
    {
      "cell_type": "markdown",
      "metadata": {
        "id": "view-in-github",
        "colab_type": "text"
      },
      "source": [
        "<a href=\"https://colab.research.google.com/github/Carlos051068/Colab_aula_Anhanguera/blob/main/C%C3%B3pia_de_convertecaractermaiusc.ipynb\" target=\"_parent\"><img src=\"https://colab.research.google.com/assets/colab-badge.svg\" alt=\"Open In Colab\"/></a>"
      ]
    },
    {
      "cell_type": "code",
      "execution_count": 1,
      "metadata": {
        "colab": {
          "base_uri": "https://localhost:8080/"
        },
        "id": "mZ3QRVOteH0y",
        "outputId": "c5946b2f-a7c1-4e35-b57f-0538fe261778"
      },
      "outputs": [
        {
          "output_type": "stream",
          "name": "stdout",
          "text": [
            "JOÃO\n"
          ]
        }
      ],
      "source": [
        "# parametros e funções. CARACTERES CONVERTIDOS PARA MAIUSCULAS\n",
        "# Parametro nominal, obrigatório, sem valor default (padrão). Não mais importa a\n",
        "# posição dos parâmetros, pois eles serão identificados pelo nome, a chamada\n",
        "# da função é obrigatória passar todos os valores e sem valor default\n",
        "\n",
        "def converter_maiuscula(texto, flag_maiuscula):\n",
        "  if flag_maiuscula:\n",
        "    return texto.upper()\n",
        "  else:\n",
        "    return texto.lower()\n",
        "\n",
        "texto = converter_maiuscula(flag_maiuscula=True, texto=\"João\") # Passagem nominal de parâmetros\n",
        "print(texto)"
      ]
    },
    {
      "cell_type": "code",
      "source": [
        ""
      ],
      "metadata": {
        "id": "eGW4-8_nFsCI"
      },
      "execution_count": null,
      "outputs": []
    }
  ]
}