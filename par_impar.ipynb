{
  "nbformat": 4,
  "nbformat_minor": 0,
  "metadata": {
    "colab": {
      "name": "convertecaractermaiusc.ipynb",
      "provenance": [],
      "authorship_tag": "ABX9TyMSlcafoKVIczLAzg9tZDkp",
      "include_colab_link": true
    },
    "kernelspec": {
      "name": "python3",
      "display_name": "Python 3"
    },
    "language_info": {
      "name": "python"
    }
  },
  "cells": [
    {
      "cell_type": "markdown",
      "metadata": {
        "id": "view-in-github",
        "colab_type": "text"
      },
      "source": [
        "<a href=\"https://colab.research.google.com/github/Carlos051068/Colab_aula_Anhanguera/blob/main/par_impar.ipynb\" target=\"_parent\"><img src=\"https://colab.research.google.com/assets/colab-badge.svg\" alt=\"Open In Colab\"/></a>"
      ]
    },
    {
      "cell_type": "code",
      "execution_count": null,
      "metadata": {
        "id": "mZ3QRVOteH0y",
        "colab": {
          "base_uri": "https://localhost:8080/"
        },
        "outputId": "444f4886-8a4a-4e2d-8483-13782559c70d"
      },
      "outputs": [
        {
          "output_type": "stream",
          "name": "stdout",
          "text": [
            "Digite um número: 6\n",
            "Número par!\n",
            "Digite um número: 7\n",
            "Número ímpar\n"
          ]
        }
      ],
      "source": [
        "#AULA 1 ANHANGUERA LINGUAGEM DE PROGRAMAÇÃO\n",
        "\n",
        "# ESTRUTURA LÓGICAS, CONDICIONAIS E DE REPETIÇÃO EM PYTHON\n",
        "# REPETIÇÃO WHILE E FOR\n",
        "\n",
        "numero = 1\n",
        "while numero != 0:   # digitando zero o programa sai!\n",
        "\n",
        "  numero = int(input('Digite um número: '))\n",
        "\n",
        "  if numero % 2 == 0:\n",
        "    print('Número par!')\n",
        "\n",
        "  else:\n",
        "    print('Número ímpar')"
      ]
    },
    {
      "cell_type": "code",
      "source": [
        ""
      ],
      "metadata": {
        "id": "eGW4-8_nFsCI"
      },
      "execution_count": null,
      "outputs": []
    }
  ]
}