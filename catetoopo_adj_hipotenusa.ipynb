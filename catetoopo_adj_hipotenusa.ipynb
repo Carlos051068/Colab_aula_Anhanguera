{
  "nbformat": 4,
  "nbformat_minor": 0,
  "metadata": {
    "colab": {
      "name": "convertecaractermaiusc.ipynb",
      "provenance": [],
      "authorship_tag": "ABX9TyMWrliR61Ml3ql5orAfnfnv",
      "include_colab_link": true
    },
    "kernelspec": {
      "name": "python3",
      "display_name": "Python 3"
    },
    "language_info": {
      "name": "python"
    }
  },
  "cells": [
    {
      "cell_type": "markdown",
      "metadata": {
        "id": "view-in-github",
        "colab_type": "text"
      },
      "source": [
        "<a href=\"https://colab.research.google.com/github/Carlos051068/Colab_aula_Anhanguera/blob/main/catetoopo_adj_hipotenusa.ipynb\" target=\"_parent\"><img src=\"https://colab.research.google.com/assets/colab-badge.svg\" alt=\"Open In Colab\"/></a>"
      ]
    },
    {
      "cell_type": "code",
      "execution_count": 30,
      "metadata": {
        "id": "mZ3QRVOteH0y",
        "colab": {
          "base_uri": "https://localhost:8080/"
        },
        "outputId": "b1d63166-98a5-4249-bc63-fc8870cfaf3f"
      },
      "outputs": [
        {
          "output_type": "stream",
          "name": "stdout",
          "text": [
            "Comprimento do cateto oposto:4.5\n",
            "Comprimento do cateto adjacente:2.7\n",
            "A hipotenusa vai medir 5.25\n"
          ]
        }
      ],
      "source": [
        "#LEITURA DO CATETO HIPOTENUSA -  GUANABARA Exercício Pytho #017\n",
        "\n",
        "catopo = float(input('Comprimento do cateto oposto:'))\n",
        "catadj = float(input('Comprimento do cateto adjacente:'))\n",
        " \n",
        "hi = (catopo ** 2 + catadj ** 2) ** (1/2)\n",
        "print('A hipotenusa vai medir {:.2f}'.format(hi))"
      ]
    },
    {
      "cell_type": "code",
      "source": [
        ""
      ],
      "metadata": {
        "id": "eGW4-8_nFsCI"
      },
      "execution_count": null,
      "outputs": []
    }
  ]
}