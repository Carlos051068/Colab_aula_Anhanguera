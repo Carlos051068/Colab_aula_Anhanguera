{
  "nbformat": 4,
  "nbformat_minor": 0,
  "metadata": {
    "colab": {
      "name": "convertecaractermaiusc.ipynb",
      "provenance": [],
      "authorship_tag": "ABX9TyMAsxCjkQevpYAA+mXe8ZcP",
      "include_colab_link": true
    },
    "kernelspec": {
      "name": "python3",
      "display_name": "Python 3"
    },
    "language_info": {
      "name": "python"
    }
  },
  "cells": [
    {
      "cell_type": "markdown",
      "metadata": {
        "id": "view-in-github",
        "colab_type": "text"
      },
      "source": [
        "<a href=\"https://colab.research.google.com/github/Carlos051068/Colab_aula_Anhanguera/blob/main/Verdadeiro_Falso.ipynb\" target=\"_parent\"><img src=\"https://colab.research.google.com/assets/colab-badge.svg\" alt=\"Open In Colab\"/></a>"
      ]
    },
    {
      "cell_type": "code",
      "execution_count": null,
      "metadata": {
        "id": "mZ3QRVOteH0y"
      },
      "outputs": [],
      "source": [
        "#AULA 1 ANHANGUERA LINGUAGEM DE PROGRAMAÇÃO\n",
        "\n",
        "# ESTRUTURA LÓGICAS, CONDICIONAIS E DE REPETIÇÃO EM PYTHON\n",
        "# and: o resultado sera True, quando os dois argumentos forem VERDADEIROS\n",
        "# or: o resultado sera True, quando pelo menos um dos argumentos for VERDADEIRO\n",
        "# not: irá inverter valor do argumento. Se for verdadeiro, a operação o\n",
        "# o transformará em falso e vice-versa.\n",
        "\n",
        "A = 15\n",
        "B = 9\n",
        "C = 9\n",
        "\n",
        "print(B == C or A < B and A < C) # V F = V F = \n",
        "print(( B == C or A < B) and A < C) # V F = V F = "
      ]
    },
    {
      "cell_type": "code",
      "source": [
        ""
      ],
      "metadata": {
        "id": "eGW4-8_nFsCI"
      },
      "execution_count": null,
      "outputs": []
    }
  ]
}