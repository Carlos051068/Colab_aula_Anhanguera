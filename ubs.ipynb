{
  "nbformat": 4,
  "nbformat_minor": 0,
  "metadata": {
    "colab": {
      "provenance": [],
      "collapsed_sections": [],
      "authorship_tag": "ABX9TyMVorSlX5CQ2u+8PibbaBX7",
      "include_colab_link": true
    },
    "kernelspec": {
      "name": "python3",
      "display_name": "Python 3"
    },
    "language_info": {
      "name": "python"
    }
  },
  "cells": [
    {
      "cell_type": "markdown",
      "metadata": {
        "id": "view-in-github",
        "colab_type": "text"
      },
      "source": [
        "<a href=\"https://colab.research.google.com/github/Carlos051068/Colab_aula_Anhanguera/blob/main/ubs.ipynb\" target=\"_parent\"><img src=\"https://colab.research.google.com/assets/colab-badge.svg\" alt=\"Open In Colab\"/></a>"
      ]
    },
    {
      "cell_type": "code",
      "source": [
        "#Unidades_Basicas_Saude-UBS.csv \n",
        "#Como importar arquivos .CSV para seu projeto Google Colab, Jupyter Notebook ou Spider\n",
        "import numpy as np\n",
        "import pandas as pd\n",
        "import plotly.express as px\n",
        "\n",
        "\n",
        "ubs_df = pd.read_csv('Unidades_Basicas_Saude-UBS.csv') #importar arquivo Bancos_e_financeiras_Irregularidades_por_instituicao_financeira.csv para COLAB\n",
        "\n",
        "#Bancos_e_financeiras_Irregularidades_por_instituicao_financeira.csv\n",
        "\n",
        "print(ubs_df.head(6))#mostra as 10 primeiras linhas\n",
        "display(ubs_df.shape)#mostra quantidade de linha e colunas\n",
        "display(ubs_df.describe())#mostra um resumo\n",
        "print('MOSTRA VALOR VAZIO *(DF_ISNA().ANY())*'*2)\n",
        "display(ubs_df.isna().any()) #mostra valores vazios = True\n",
        "print('|(DF_ISNA().ANY()) vazio=True*'*3)\n",
        "print('-'*90)\n",
        "print('*(DF_ISNA().SUM()) soma vazios*'*2)\n",
        "display(ubs_df.isna().sum()) #SOMA valores vazios\n",
        "print('|(DF_ISNA().SUM()) soma vazio*'*2)\n",
        "\n",
        "#print('TRATAMENTO DE DADO PATOLOGISTA ALOCADO')\n",
        "#informacao_df['Patologista Alocado']= informacao_df['Patologista Alocado'].fillna(method='ffill')\n",
        "#print('TRATAMENTO DE DADO ENCERRAMENTO')\n",
        "#informacao_df['Encerramento']= informacao_df['Encerramento'].fillna(method='ffill')\n",
        "#print('MOSTRA VALOR VAZIO *(DF_ISNA().ANY())*'*2)\n",
        "#display(informacao_df.isna().any()) #mostra valores vazios = True\n",
        "#print('|(DF_ISNA().ANY()) vazio=True*'*3)\n",
        "\n",
        "#print(\"H\"*90)\n",
        "#print('CALCULAR INDICADORES utilizando values_counts EXAME/ANO')\n",
        "#produtividade_ano = informacao_df[['Exame','Ano']].value_counts()\n",
        "#display(produtividade_ano)\n",
        "\n",
        "#print('GRAFICO - '*4)\n",
        "\n"
      ],
      "metadata": {
        "colab": {
          "base_uri": "https://localhost:8080/",
          "height": 624
        },
        "id": "P4uY8RhuZ15r",
        "outputId": "39e4c02f-cc52-47be-d4a2-f3e79807da13"
      },
      "execution_count": 8,
      "outputs": [
        {
          "output_type": "stream",
          "name": "stdout",
          "text": [
            "                                                              CNES;UF;IBGE;\"NOME\";\"LOGRADOURO\";\"BAIRRO\";LATITUDE;LONGITUDE\n",
            "0033820;52;520170;\"UNIDADE DE SAUDE DA FAMILIA ... 90682;-52                                            22545.0           \n",
            "0000108;26;260290;\"USF ALTO DOS INDIOS\";\"RUA 17... 28389;-35                                              321.0           \n",
            "0000116;26;260290;\"USF CHARNECA II\";\"RUA 02\";\"C... 28353;-35                                             2819.0           \n",
            "0000124;26;260290;\"USF SAO FRANCISCO I\";\"RUA MA... 287;-35                                                 35.0           \n",
            "0000132;26;260290;\"USF ROSARIO\";\"RUA 01\";\"ROSAR... 28389;-35                                              321.0           \n",
            "0000140;26;260290;\"USF JUSSARAL\";\"ESTRADA DA VI... 287;-35                                                 35.0           \n"
          ]
        },
        {
          "output_type": "display_data",
          "data": {
            "text/plain": [
              "(40260, 1)"
            ]
          },
          "metadata": {}
        },
        {
          "output_type": "display_data",
          "data": {
            "text/plain": [
              "       CNES;UF;IBGE;\"NOME\";\"LOGRADOURO\";\"BAIRRO\";LATITUDE;LONGITUDE\n",
              "count                                       40079.000000           \n",
              "mean                                        30492.569425           \n",
              "std                                         32914.853762           \n",
              "min                                             1.000000           \n",
              "25%                                           678.000000           \n",
              "50%                                         16662.000000           \n",
              "75%                                         57003.500000           \n",
              "max                                         99997.000000           "
            ],
            "text/html": [
              "\n",
              "  <div id=\"df-5176d0f0-821f-4084-afd5-631831cab63b\">\n",
              "    <div class=\"colab-df-container\">\n",
              "      <div>\n",
              "<style scoped>\n",
              "    .dataframe tbody tr th:only-of-type {\n",
              "        vertical-align: middle;\n",
              "    }\n",
              "\n",
              "    .dataframe tbody tr th {\n",
              "        vertical-align: top;\n",
              "    }\n",
              "\n",
              "    .dataframe thead th {\n",
              "        text-align: right;\n",
              "    }\n",
              "</style>\n",
              "<table border=\"1\" class=\"dataframe\">\n",
              "  <thead>\n",
              "    <tr style=\"text-align: right;\">\n",
              "      <th></th>\n",
              "      <th>CNES;UF;IBGE;\"NOME\";\"LOGRADOURO\";\"BAIRRO\";LATITUDE;LONGITUDE</th>\n",
              "    </tr>\n",
              "  </thead>\n",
              "  <tbody>\n",
              "    <tr>\n",
              "      <th>count</th>\n",
              "      <td>40079.000000</td>\n",
              "    </tr>\n",
              "    <tr>\n",
              "      <th>mean</th>\n",
              "      <td>30492.569425</td>\n",
              "    </tr>\n",
              "    <tr>\n",
              "      <th>std</th>\n",
              "      <td>32914.853762</td>\n",
              "    </tr>\n",
              "    <tr>\n",
              "      <th>min</th>\n",
              "      <td>1.000000</td>\n",
              "    </tr>\n",
              "    <tr>\n",
              "      <th>25%</th>\n",
              "      <td>678.000000</td>\n",
              "    </tr>\n",
              "    <tr>\n",
              "      <th>50%</th>\n",
              "      <td>16662.000000</td>\n",
              "    </tr>\n",
              "    <tr>\n",
              "      <th>75%</th>\n",
              "      <td>57003.500000</td>\n",
              "    </tr>\n",
              "    <tr>\n",
              "      <th>max</th>\n",
              "      <td>99997.000000</td>\n",
              "    </tr>\n",
              "  </tbody>\n",
              "</table>\n",
              "</div>\n",
              "      <button class=\"colab-df-convert\" onclick=\"convertToInteractive('df-5176d0f0-821f-4084-afd5-631831cab63b')\"\n",
              "              title=\"Convert this dataframe to an interactive table.\"\n",
              "              style=\"display:none;\">\n",
              "        \n",
              "  <svg xmlns=\"http://www.w3.org/2000/svg\" height=\"24px\"viewBox=\"0 0 24 24\"\n",
              "       width=\"24px\">\n",
              "    <path d=\"M0 0h24v24H0V0z\" fill=\"none\"/>\n",
              "    <path d=\"M18.56 5.44l.94 2.06.94-2.06 2.06-.94-2.06-.94-.94-2.06-.94 2.06-2.06.94zm-11 1L8.5 8.5l.94-2.06 2.06-.94-2.06-.94L8.5 2.5l-.94 2.06-2.06.94zm10 10l.94 2.06.94-2.06 2.06-.94-2.06-.94-.94-2.06-.94 2.06-2.06.94z\"/><path d=\"M17.41 7.96l-1.37-1.37c-.4-.4-.92-.59-1.43-.59-.52 0-1.04.2-1.43.59L10.3 9.45l-7.72 7.72c-.78.78-.78 2.05 0 2.83L4 21.41c.39.39.9.59 1.41.59.51 0 1.02-.2 1.41-.59l7.78-7.78 2.81-2.81c.8-.78.8-2.07 0-2.86zM5.41 20L4 18.59l7.72-7.72 1.47 1.35L5.41 20z\"/>\n",
              "  </svg>\n",
              "      </button>\n",
              "      \n",
              "  <style>\n",
              "    .colab-df-container {\n",
              "      display:flex;\n",
              "      flex-wrap:wrap;\n",
              "      gap: 12px;\n",
              "    }\n",
              "\n",
              "    .colab-df-convert {\n",
              "      background-color: #E8F0FE;\n",
              "      border: none;\n",
              "      border-radius: 50%;\n",
              "      cursor: pointer;\n",
              "      display: none;\n",
              "      fill: #1967D2;\n",
              "      height: 32px;\n",
              "      padding: 0 0 0 0;\n",
              "      width: 32px;\n",
              "    }\n",
              "\n",
              "    .colab-df-convert:hover {\n",
              "      background-color: #E2EBFA;\n",
              "      box-shadow: 0px 1px 2px rgba(60, 64, 67, 0.3), 0px 1px 3px 1px rgba(60, 64, 67, 0.15);\n",
              "      fill: #174EA6;\n",
              "    }\n",
              "\n",
              "    [theme=dark] .colab-df-convert {\n",
              "      background-color: #3B4455;\n",
              "      fill: #D2E3FC;\n",
              "    }\n",
              "\n",
              "    [theme=dark] .colab-df-convert:hover {\n",
              "      background-color: #434B5C;\n",
              "      box-shadow: 0px 1px 3px 1px rgba(0, 0, 0, 0.15);\n",
              "      filter: drop-shadow(0px 1px 2px rgba(0, 0, 0, 0.3));\n",
              "      fill: #FFFFFF;\n",
              "    }\n",
              "  </style>\n",
              "\n",
              "      <script>\n",
              "        const buttonEl =\n",
              "          document.querySelector('#df-5176d0f0-821f-4084-afd5-631831cab63b button.colab-df-convert');\n",
              "        buttonEl.style.display =\n",
              "          google.colab.kernel.accessAllowed ? 'block' : 'none';\n",
              "\n",
              "        async function convertToInteractive(key) {\n",
              "          const element = document.querySelector('#df-5176d0f0-821f-4084-afd5-631831cab63b');\n",
              "          const dataTable =\n",
              "            await google.colab.kernel.invokeFunction('convertToInteractive',\n",
              "                                                     [key], {});\n",
              "          if (!dataTable) return;\n",
              "\n",
              "          const docLinkHtml = 'Like what you see? Visit the ' +\n",
              "            '<a target=\"_blank\" href=https://colab.research.google.com/notebooks/data_table.ipynb>data table notebook</a>'\n",
              "            + ' to learn more about interactive tables.';\n",
              "          element.innerHTML = '';\n",
              "          dataTable['output_type'] = 'display_data';\n",
              "          await google.colab.output.renderOutput(dataTable, element);\n",
              "          const docLink = document.createElement('div');\n",
              "          docLink.innerHTML = docLinkHtml;\n",
              "          element.appendChild(docLink);\n",
              "        }\n",
              "      </script>\n",
              "    </div>\n",
              "  </div>\n",
              "  "
            ]
          },
          "metadata": {}
        },
        {
          "output_type": "stream",
          "name": "stdout",
          "text": [
            "MOSTRA VALOR VAZIO *(DF_ISNA().ANY())*MOSTRA VALOR VAZIO *(DF_ISNA().ANY())*\n"
          ]
        },
        {
          "output_type": "display_data",
          "data": {
            "text/plain": [
              "CNES;UF;IBGE;\"NOME\";\"LOGRADOURO\";\"BAIRRO\";LATITUDE;LONGITUDE    True\n",
              "dtype: bool"
            ]
          },
          "metadata": {}
        },
        {
          "output_type": "stream",
          "name": "stdout",
          "text": [
            "|(DF_ISNA().ANY()) vazio=True*|(DF_ISNA().ANY()) vazio=True*|(DF_ISNA().ANY()) vazio=True*\n",
            "------------------------------------------------------------------------------------------\n",
            "*(DF_ISNA().SUM()) soma vazios**(DF_ISNA().SUM()) soma vazios*\n"
          ]
        },
        {
          "output_type": "display_data",
          "data": {
            "text/plain": [
              "CNES;UF;IBGE;\"NOME\";\"LOGRADOURO\";\"BAIRRO\";LATITUDE;LONGITUDE    181\n",
              "dtype: int64"
            ]
          },
          "metadata": {}
        },
        {
          "output_type": "stream",
          "name": "stdout",
          "text": [
            "|(DF_ISNA().SUM()) soma vazio*|(DF_ISNA().SUM()) soma vazio*\n"
          ]
        }
      ]
    }
  ]
}