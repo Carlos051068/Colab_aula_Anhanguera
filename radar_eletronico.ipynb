{
  "nbformat": 4,
  "nbformat_minor": 0,
  "metadata": {
    "colab": {
      "provenance": [],
      "authorship_tag": "ABX9TyPQpK3eg7kL7t7gJP2E4fIf",
      "include_colab_link": true
    },
    "kernelspec": {
      "name": "python3",
      "display_name": "Python 3"
    },
    "language_info": {
      "name": "python"
    }
  },
  "cells": [
    {
      "cell_type": "markdown",
      "metadata": {
        "id": "view-in-github",
        "colab_type": "text"
      },
      "source": [
        "<a href=\"https://colab.research.google.com/github/Carlos051068/Colab_aula_Anhanguera/blob/main/radar_eletronico.ipynb\" target=\"_parent\"><img src=\"https://colab.research.google.com/assets/colab-badge.svg\" alt=\"Open In Colab\"/></a>"
      ]
    },
    {
      "cell_type": "code",
      "execution_count": 8,
      "metadata": {
        "id": "mZ3QRVOteH0y",
        "colab": {
          "base_uri": "https://localhost:8080/"
        },
        "outputId": "1291b9a7-2158-480c-bfd1-03a0dc27d171"
      },
      "outputs": [
        {
          "output_type": "stream",
          "name": "stdout",
          "text": [
            "================================\n",
            "VELOCIDADE X MULTA\n",
            "================================\n",
            "Digite a velocidade do carro: 76\n",
            "DIRIJA COM SEGURANÇA!\n"
          ]
        }
      ],
      "source": [
        "#aula Gustavo Guanabara Exercício Python \n",
        "#029 - Radar eletrônico https://www.youtube.com/watch?v=hgJ_ETNGSj8\n",
        "print(\"=\"*32)\n",
        "print(\"VELOCIDADE X MULTA\")\n",
        "print(\"=\"*32)\n",
        "\n",
        "vel = float(input(\"Digite a velocidade do carro: \"))\n",
        "\n",
        "if vel > 80:\n",
        "   print(\"MULTADO! VOCÊ EXCEDEU O LIMITE PERMITIDO QUE É DE 80km/h\")\n",
        "   multa = (vel-80) * 7\n",
        "   print(\"VOCÊ DEVE PAGAR UMA MULTA DE R${:.2f}.\".format(multa))\n",
        "print(\"DIRIJA COM SEGURANÇA!\")"
      ]
    },
    {
      "cell_type": "code",
      "source": [],
      "metadata": {
        "id": "eGW4-8_nFsCI"
      },
      "execution_count": null,
      "outputs": []
    }
  ]
}