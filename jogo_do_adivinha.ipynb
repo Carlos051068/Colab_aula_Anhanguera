{
  "nbformat": 4,
  "nbformat_minor": 0,
  "metadata": {
    "colab": {
      "name": "convertecaractermaiusc.ipynb",
      "provenance": [],
      "authorship_tag": "ABX9TyO8e4Mz9bMB5fMBOf6I0llm",
      "include_colab_link": true
    },
    "kernelspec": {
      "name": "python3",
      "display_name": "Python 3"
    },
    "language_info": {
      "name": "python"
    }
  },
  "cells": [
    {
      "cell_type": "markdown",
      "metadata": {
        "id": "view-in-github",
        "colab_type": "text"
      },
      "source": [
        "<a href=\"https://colab.research.google.com/github/Carlos051068/Colab_aula_Anhanguera/blob/main/jogo_do_adivinha.ipynb\" target=\"_parent\"><img src=\"https://colab.research.google.com/assets/colab-badge.svg\" alt=\"Open In Colab\"/></a>"
      ]
    },
    {
      "cell_type": "code",
      "execution_count": 37,
      "metadata": {
        "id": "mZ3QRVOteH0y",
        "colab": {
          "base_uri": "https://localhost:8080/"
        },
        "outputId": "b72fd8b0-8cef-4aa8-fb47-90a3a0667617"
      },
      "outputs": [
        {
          "output_type": "stream",
          "name": "stdout",
          "text": [
            "JOGO DO ADIVINHA\n",
            "6\n",
            "Digite um número: 7\n",
            "ERROU!\n"
          ]
        }
      ],
      "source": [
        "#CURSO EM VIDEO PYTHON - Exercício Python #49 - Jogo do Adivinha\n",
        "import random\n",
        "print('JOGO DO ADIVINHA')\n",
        "r = random.randrange(10)\n",
        "print(r)\n",
        "n=int(input('Digite um número: '))\n",
        "if n==r:\n",
        "  print('ACERTOU!')\n",
        "else:\n",
        " print('ERROU!')"
      ]
    },
    {
      "cell_type": "code",
      "source": [
        ""
      ],
      "metadata": {
        "id": "eGW4-8_nFsCI"
      },
      "execution_count": null,
      "outputs": []
    }
  ]
}