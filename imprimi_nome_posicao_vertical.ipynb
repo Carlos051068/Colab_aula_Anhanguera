{
  "nbformat": 4,
  "nbformat_minor": 0,
  "metadata": {
    "colab": {
      "name": "convertecaractermaiusc.ipynb",
      "provenance": [],
      "authorship_tag": "ABX9TyOlIXnwq7ODl4hXQDYHdIKT",
      "include_colab_link": true
    },
    "kernelspec": {
      "name": "python3",
      "display_name": "Python 3"
    },
    "language_info": {
      "name": "python"
    }
  },
  "cells": [
    {
      "cell_type": "markdown",
      "metadata": {
        "id": "view-in-github",
        "colab_type": "text"
      },
      "source": [
        "<a href=\"https://colab.research.google.com/github/Carlos051068/Colab_aula_Anhanguera/blob/main/imprimi_nome_posicao_vertical.ipynb\" target=\"_parent\"><img src=\"https://colab.research.google.com/assets/colab-badge.svg\" alt=\"Open In Colab\"/></a>"
      ]
    },
    {
      "cell_type": "code",
      "execution_count": 8,
      "metadata": {
        "id": "mZ3QRVOteH0y",
        "colab": {
          "base_uri": "https://localhost:8080/"
        },
        "outputId": "be3930cd-1057-48ca-85e6-770f6aa8f64e"
      },
      "outputs": [
        {
          "output_type": "stream",
          "name": "stdout",
          "text": [
            "Posição = 0, valor = G\n",
            "Posição = 1, valor = u\n",
            "Posição = 2, valor = i\n",
            "Posição = 3, valor = d\n",
            "Posição = 4, valor = o\n"
          ]
        }
      ],
      "source": [
        "#AULA 1 ANHANGUERA LINGUAGEM DE PROGRAMAÇÃO\n",
        "\n",
        "# ESTRUTURA LÓGICAS, CONDICIONAIS E DE REPETIÇÃO EM PYTHON\n",
        "# REPETIÇÃO WHILE E FOR\n",
        "\n",
        "nome = \"Guido\"\n",
        "for i, c in enumerate(nome):    # para cada caracter \"c\" imprime um por um com contador\n",
        "  print(f\"Posição = {i}, valor = {c}\")"
      ]
    },
    {
      "cell_type": "code",
      "source": [
        ""
      ],
      "metadata": {
        "id": "eGW4-8_nFsCI"
      },
      "execution_count": null,
      "outputs": []
    }
  ]
}